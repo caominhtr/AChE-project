{
 "cells": [
  {
   "cell_type": "code",
   "execution_count": 18,
   "metadata": {},
   "outputs": [],
   "source": [
    "import matplotlib.pyplot as plt\n",
    "import numpy as np\n",
    "import os\n",
    "import pandas as pd"
   ]
  },
  {
   "cell_type": "code",
   "execution_count": 13,
   "metadata": {},
   "outputs": [],
   "source": [
    "def extract_40th_line_columns(file_path):\n",
    "    with open(file_path, 'r') as file:\n",
    "        lines = file.readlines()\n",
    "        if len(lines) >= 40:\n",
    "            if float(lines[39].strip()[0]) == 1:\n",
    "                deltaG = float(lines[39].strip()[8:14])\n",
    "            else:\n",
    "                deltaG = 0\n",
    "        else:\n",
    "            deltaG = 0\n",
    "    return (deltaG)\n",
    "\n",
    "def ef_cal(score, label, percentage):\n",
    "\n",
    "    index = np.argsort(score)[::-1]\n",
    "    score_sort = score[index]\n",
    "    label_sort = label[index]\n",
    "\n",
    "    cut_off = round(len(score)*percentage)\n",
    "\n",
    "    na = 0\n",
    "    Nx = round(percentage*len(score))\n",
    "    n = len(label[label == 1])\n",
    "    N = len(score)\n",
    "\n",
    "    for i in range(0, cut_off):\n",
    "        if label[index[i]] == 1:\n",
    "            na += 1\n",
    "\n",
    "    EFx = (na/Nx)/(n/N)\n",
    "\n",
    "    if n < Nx:\n",
    "        maxef = (n/Nx)/(n/N)\n",
    "    else:\n",
    "        maxef = 1/(n/N)\n",
    "\n",
    "    normalEF = EFx/maxef\n",
    "    \n",
    "    return round(EFx,4), round(normalEF,4)"
   ]
  },
  {
   "cell_type": "code",
   "execution_count": 8,
   "metadata": {},
   "outputs": [],
   "source": [
    "dfs = []\n",
    "\n",
    "base_dir = \"/home/cao-minh-truong/Chemoinformatics/Sem1 Paris Cite/Github/3. Molecular docking/3.2. Docking\"\n",
    "\n",
    "for i in range(1,369):\n",
    "    folder_name = f\"cpd{i}\"\n",
    "    folder_path = os.path.join(base_dir, folder_name)\n",
    "\n",
    "    if os.path.exists(folder_path):\n",
    "        file_path = os.path.join(folder_path, f\"out_cpd{i}.txt\")\n",
    "\n",
    "        if os.path.exists(file_path):\n",
    "\n",
    "            deltaG = extract_40th_line_columns(file_path)\n",
    "\n",
    "            dfs.append(deltaG)\n",
    "        else:\n",
    "            print(f\"File 'out_cpd{i}.txt' not found in {folder_name}\")\n",
    "    else:\n",
    "        print(f\"Folder {folder_name} not found\")"
   ]
  },
  {
   "cell_type": "code",
   "execution_count": 17,
   "metadata": {},
   "outputs": [
    {
     "data": {
      "image/png": "[encoded data removed]",
      "text/plain": [
       "<Figure size 640x480 with 1 Axes>"
      ]
     },
     "metadata": {},
     "output_type": "display_data"
    }
   ],
   "source": [
    "plt.hist(dfs)\n",
    "plt.show()"
   ]
  },
  {
   "cell_type": "code",
   "execution_count": 14,
   "metadata": {},
   "outputs": [
    {
     "name": "stdout",
     "output_type": "stream",
     "text": [
      "EF1% (1.6331, 0.75)\n",
      "EF5% (1.3307, 0.6111)\n",
      "EF10% (1.177, 0.5405)\n"
     ]
    }
   ],
   "source": [
    "label = np.concatenate([np.repeat(1, 169), np.repeat(0, 199)])\n",
    "abs = np.negative(dfs)\n",
    "print(f'EF1% {ef_cal(abs, label, 0.01)}')\n",
    "print(f'EF5% {ef_cal(abs, label, 0.05)}')\n",
    "print(f'EF10% {ef_cal(abs, label, 0.1)}')"
   ]
  },
  {
   "cell_type": "code",
   "execution_count": null,
   "metadata": {},
   "outputs": [
    {
     "data": {
      "text/html": [
       "<div>\n",
       "<style scoped>\n",
       "    .dataframe tbody tr th:only-of-type {\n",
       "        vertical-align: middle;\n",
       "    }\n",
       "\n",
       "    .dataframe tbody tr th {\n",
       "        vertical-align: top;\n",
       "    }\n",
       "\n",
       "    .dataframe thead th {\n",
       "        text-align: right;\n",
       "    }\n",
       "</style>\n",
       "<table border=\"1\" class=\"dataframe\">\n",
       "  <thead>\n",
       "    <tr style=\"text-align: right;\">\n",
       "      <th></th>\n",
       "      <th>score</th>\n",
       "    </tr>\n",
       "  </thead>\n",
       "  <tbody>\n",
       "    <tr>\n",
       "      <th>0</th>\n",
       "      <td>-8.419</td>\n",
       "    </tr>\n",
       "    <tr>\n",
       "      <th>1</th>\n",
       "      <td>-7.930</td>\n",
       "    </tr>\n",
       "    <tr>\n",
       "      <th>2</th>\n",
       "      <td>-6.939</td>\n",
       "    </tr>\n",
       "    <tr>\n",
       "      <th>3</th>\n",
       "      <td>-6.893</td>\n",
       "    </tr>\n",
       "    <tr>\n",
       "      <th>4</th>\n",
       "      <td>-7.993</td>\n",
       "    </tr>\n",
       "    <tr>\n",
       "      <th>...</th>\n",
       "      <td>...</td>\n",
       "    </tr>\n",
       "    <tr>\n",
       "      <th>363</th>\n",
       "      <td>-7.822</td>\n",
       "    </tr>\n",
       "    <tr>\n",
       "      <th>364</th>\n",
       "      <td>-10.240</td>\n",
       "    </tr>\n",
       "    <tr>\n",
       "      <th>365</th>\n",
       "      <td>-4.995</td>\n",
       "    </tr>\n",
       "    <tr>\n",
       "      <th>366</th>\n",
       "      <td>-8.513</td>\n",
       "    </tr>\n",
       "    <tr>\n",
       "      <th>367</th>\n",
       "      <td>-7.201</td>\n",
       "    </tr>\n",
       "  </tbody>\n",
       "</table>\n",
       "<p>368 rows × 1 columns</p>\n",
       "</div>"
      ],
      "text/plain": [
       "      score\n",
       "0    -8.419\n",
       "1    -7.930\n",
       "2    -6.939\n",
       "3    -6.893\n",
       "4    -7.993\n",
       "..      ...\n",
       "363  -7.822\n",
       "364 -10.240\n",
       "365  -4.995\n",
       "366  -8.513\n",
       "367  -7.201\n",
       "\n",
       "[368 rows x 1 columns]"
      ]
     },
     "execution_count": 16,
     "metadata": {},
     "output_type": "execute_result"
    }
   ],
   "source": [
    "df_plot = pd.DataFrame()\n",
    "df_plot['score'] = dfs\n",
    "# df_plot.to_csv('df_docking.csv')"
   ]
  }
 ],
 "metadata": {
  "kernelspec": {
   "display_name": "base",
   "language": "python",
   "name": "python3"
  },
  "language_info": {
   "codemirror_mode": {
    "name": "ipython",
    "version": 3
   },
   "file_extension": ".py",
   "mimetype": "text/x-python",
   "name": "python",
   "nbconvert_exporter": "python",
   "pygments_lexer": "ipython3",
   "version": "3.12.2"
  }
 },
 "nbformat": 4,
 "nbformat_minor": 2
}
